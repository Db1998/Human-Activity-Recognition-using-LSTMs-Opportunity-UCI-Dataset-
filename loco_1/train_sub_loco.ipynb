{
 "cells": [
  {
   "cell_type": "code",
   "execution_count": 1,
   "metadata": {},
   "outputs": [
    {
     "name": "stderr",
     "output_type": "stream",
     "text": [
      "C:\\Users\\DHAIRYA\\Anaconda3\\lib\\site-packages\\h5py\\__init__.py:36: FutureWarning: Conversion of the second argument of issubdtype from `float` to `np.floating` is deprecated. In future, it will be treated as `np.float64 == np.dtype(float).type`.\n",
      "  from ._conv import register_converters as _register_converters\n",
      "Using TensorFlow backend.\n"
     ]
    }
   ],
   "source": [
    "import pandas as pd\n",
    "import numpy as np\n",
    "import math\n",
    "from sklearn.preprocessing import MinMaxScaler\n",
    "from keras.models import Sequential\n",
    "from keras.layers import LSTM\n",
    "from keras.layers import Dense\n",
    "import sys\n",
    "from keras.callbacks import EarlyStopping\n",
    "from keras.models import load_model\n",
    "import matplotlib.pyplot as plt"
   ]
  },
  {
   "cell_type": "code",
   "execution_count": 11,
   "metadata": {},
   "outputs": [],
   "source": [
    "xdata_t = np.load('npy\\s1adl5_x.npy')\n",
    "ydata_t = np.load('npy\\s1adl5_y.npy')\n",
    "xdata_cv = np.load('npy\\s1adl2_x.npy')\n",
    "ydata_cv = np.load('npy\\s1adl2_y.npy')"
   ]
  },
  {
   "cell_type": "code",
   "execution_count": 12,
   "metadata": {},
   "outputs": [],
   "source": [
    "model = load_model('traincv.h5')"
   ]
  },
  {
   "cell_type": "code",
   "execution_count": 13,
   "metadata": {},
   "outputs": [],
   "source": [
    "early_stop = EarlyStopping(monitor = 'val_loss', patience = 2)"
   ]
  },
  {
   "cell_type": "code",
   "execution_count": 14,
   "metadata": {},
   "outputs": [],
   "source": [
    "model.compile(loss = 'mean_absolute_error', optimizer = 'adam', metrics = ['accuracy'])"
   ]
  },
  {
   "cell_type": "code",
   "execution_count": 15,
   "metadata": {},
   "outputs": [
    {
     "name": "stdout",
     "output_type": "stream",
     "text": [
      "_________________________________________________________________\n",
      "Layer (type)                 Output Shape              Param #   \n",
      "=================================================================\n",
      "lstm_1 (LSTM)                (None, 32, 35)            23660     \n",
      "_________________________________________________________________\n",
      "lstm_2 (LSTM)                (None, 5)                 820       \n",
      "=================================================================\n",
      "Total params: 24,480\n",
      "Trainable params: 24,480\n",
      "Non-trainable params: 0\n",
      "_________________________________________________________________\n"
     ]
    }
   ],
   "source": [
    "model.summary()"
   ]
  },
  {
   "cell_type": "code",
   "execution_count": 16,
   "metadata": {},
   "outputs": [
    {
     "name": "stdout",
     "output_type": "stream",
     "text": [
      "Train on 30095 samples, validate on 32192 samples\n",
      "Epoch 1/20\n",
      "30095/30095 [==============================] - 40s 1ms/step - loss: 0.0185 - acc: 0.9549 - val_loss: 0.0887 - val_acc: 0.7827\n",
      "Epoch 2/20\n",
      "30095/30095 [==============================] - 52s 2ms/step - loss: 0.0143 - acc: 0.9662 - val_loss: 0.0906 - val_acc: 0.7725\n",
      "Epoch 3/20\n",
      "30095/30095 [==============================] - 37s 1ms/step - loss: 0.0163 - acc: 0.9610 - val_loss: 0.0851 - val_acc: 0.7875\n",
      "Epoch 4/20\n",
      "30095/30095 [==============================] - 40s 1ms/step - loss: 0.0117 - acc: 0.9722 - val_loss: 0.0782 - val_acc: 0.8066\n",
      "Epoch 5/20\n",
      "30095/30095 [==============================] - 39s 1ms/step - loss: 0.0112 - acc: 0.9732 - val_loss: 0.0785 - val_acc: 0.8037\n",
      "Epoch 6/20\n",
      "30095/30095 [==============================] - 37s 1ms/step - loss: 0.0158 - acc: 0.9613 - val_loss: 0.0798 - val_acc: 0.8014\n"
     ]
    }
   ],
   "source": [
    "his = model.fit(xdata_t, ydata_t, epochs = 20, validation_data = (xdata_cv, ydata_cv), callbacks = [early_stop])"
   ]
  },
  {
   "cell_type": "code",
   "execution_count": 17,
   "metadata": {},
   "outputs": [],
   "source": [
    "model.save('traincv.h5')"
   ]
  },
  {
   "cell_type": "code",
   "execution_count": null,
   "metadata": {},
   "outputs": [],
   "source": []
  }
 ],
 "metadata": {
  "kernelspec": {
   "display_name": "Python 3",
   "language": "python",
   "name": "python3"
  },
  "language_info": {
   "codemirror_mode": {
    "name": "ipython",
    "version": 3
   },
   "file_extension": ".py",
   "mimetype": "text/x-python",
   "name": "python",
   "nbconvert_exporter": "python",
   "pygments_lexer": "ipython3",
   "version": "3.6.4"
  }
 },
 "nbformat": 4,
 "nbformat_minor": 2
}
