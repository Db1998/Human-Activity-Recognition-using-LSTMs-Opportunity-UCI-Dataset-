{
 "cells": [
  {
   "cell_type": "code",
   "execution_count": 1,
   "metadata": {},
   "outputs": [
    {
     "name": "stderr",
     "output_type": "stream",
     "text": [
      "C:\\Users\\DHAIRYA\\Anaconda3\\lib\\site-packages\\h5py\\__init__.py:36: FutureWarning: Conversion of the second argument of issubdtype from `float` to `np.floating` is deprecated. In future, it will be treated as `np.float64 == np.dtype(float).type`.\n",
      "  from ._conv import register_converters as _register_converters\n",
      "Using TensorFlow backend.\n"
     ]
    }
   ],
   "source": [
    "import pandas as pd\n",
    "import numpy as np\n",
    "import math\n",
    "from sklearn.preprocessing import MinMaxScaler\n",
    "from keras.models import Sequential\n",
    "from keras.layers import LSTM, GRU\n",
    "from keras.layers import Dense\n",
    "import sys\n",
    "from keras.callbacks import EarlyStopping\n",
    "from keras.models import load_model\n",
    "import matplotlib.pyplot as plt"
   ]
  },
  {
   "cell_type": "code",
   "execution_count": 19,
   "metadata": {},
   "outputs": [],
   "source": [
    "xdata_t = np.load('npy\\s1adl1_x.npy')\n",
    "ydata_t = np.load('npy\\s1adl1_y.npy')\n",
    "xdata_cv = np.load('npy\\s1adl2_x.npy')\n",
    "ydata_cv = np.load('npy\\s1adl2_y.npy')"
   ]
  },
  {
   "cell_type": "code",
   "execution_count": 23,
   "metadata": {},
   "outputs": [],
   "source": [
    "model = Sequential()"
   ]
  },
  {
   "cell_type": "code",
   "execution_count": 24,
   "metadata": {},
   "outputs": [],
   "source": [
    "early_stop = EarlyStopping(monitor = 'val_loss', patience = 1)"
   ]
  },
  {
   "cell_type": "code",
   "execution_count": 25,
   "metadata": {},
   "outputs": [],
   "source": [
    "model.add(GRU((35), batch_input_shape = (None, 32, 133), return_sequences = True))\n",
    "model.add(GRU((5), return_sequences = False))"
   ]
  },
  {
   "cell_type": "code",
   "execution_count": 26,
   "metadata": {},
   "outputs": [],
   "source": [
    "model.compile(loss = 'mean_absolute_error', optimizer = 'adam', metrics = ['accuracy'])"
   ]
  },
  {
   "cell_type": "code",
   "execution_count": 27,
   "metadata": {},
   "outputs": [
    {
     "name": "stdout",
     "output_type": "stream",
     "text": [
      "_________________________________________________________________\n",
      "Layer (type)                 Output Shape              Param #   \n",
      "=================================================================\n",
      "lstm_1 (LSTM)                (None, 32, 35)            23660     \n",
      "_________________________________________________________________\n",
      "lstm_2 (LSTM)                (None, 5)                 820       \n",
      "=================================================================\n",
      "Total params: 24,480\n",
      "Trainable params: 24,480\n",
      "Non-trainable params: 0\n",
      "_________________________________________________________________\n"
     ]
    }
   ],
   "source": [
    "model.summary()"
   ]
  },
  {
   "cell_type": "code",
   "execution_count": 28,
   "metadata": {},
   "outputs": [
    {
     "name": "stdout",
     "output_type": "stream",
     "text": [
      "Train on 51084 samples, validate on 32192 samples\n",
      "Epoch 1/20\n",
      "51084/51084 [==============================] - 86s 2ms/step - loss: 0.0748 - acc: 0.8266 - val_loss: 0.1131 - val_acc: 0.7124\n",
      "Epoch 2/20\n",
      "51084/51084 [==============================] - 84s 2ms/step - loss: 0.0369 - acc: 0.9082 - val_loss: 0.1030 - val_acc: 0.7417\n",
      "Epoch 3/20\n",
      "51084/51084 [==============================] - 84s 2ms/step - loss: 0.0265 - acc: 0.9344 - val_loss: 0.1033 - val_acc: 0.7469\n"
     ]
    }
   ],
   "source": [
    "his = model.fit(xdata_t, ydata_t, epochs = 20, validation_data = (xdata_cv, ydata_cv), callbacks = [early_stop])"
   ]
  },
  {
   "cell_type": "code",
   "execution_count": 29,
   "metadata": {},
   "outputs": [
    {
     "name": "stdout",
     "output_type": "stream",
     "text": [
      "32192/32192 [==============================] - 7s 205us/step\n"
     ]
    },
    {
     "data": {
      "text/plain": [
       "[0.10326909558255404, 0.7468936381709742]"
      ]
     },
     "execution_count": 29,
     "metadata": {},
     "output_type": "execute_result"
    }
   ],
   "source": [
    "model.evaluate(xdata_cv, ydata_cv)"
   ]
  },
  {
   "cell_type": "code",
   "execution_count": 32,
   "metadata": {},
   "outputs": [],
   "source": [
    "model.save('traincv_gru.h5')"
   ]
  },
  {
   "cell_type": "code",
   "execution_count": 31,
   "metadata": {},
   "outputs": [
    {
     "data": {
      "text/plain": [
       "array([[ 0.0000000e+00, -0.0000000e+00,  5.9150723e-10,  2.8094682e-13,\n",
       "         1.0000000e+00],\n",
       "       [ 8.7037916e-17, -0.0000000e+00,  5.7565774e-10,  3.4642916e-13,\n",
       "         1.0000000e+00],\n",
       "       [ 7.6989755e-15, -0.0000000e+00,  5.6260741e-10,  3.1325105e-13,\n",
       "         1.0000000e+00],\n",
       "       ...,\n",
       "       [ 0.0000000e+00, -0.0000000e+00,  3.1269284e-10, -0.0000000e+00,\n",
       "         1.0000000e+00],\n",
       "       [ 0.0000000e+00, -0.0000000e+00,  3.1271316e-10, -0.0000000e+00,\n",
       "         1.0000000e+00],\n",
       "       [ 0.0000000e+00, -0.0000000e+00,  3.1424247e-10, -0.0000000e+00,\n",
       "         1.0000000e+00]], dtype=float32)"
      ]
     },
     "execution_count": 31,
     "metadata": {},
     "output_type": "execute_result"
    }
   ],
   "source": [
    "result = model.predict(xdata_cv)\n",
    "result"
   ]
  },
  {
   "cell_type": "code",
   "execution_count": null,
   "metadata": {},
   "outputs": [],
   "source": []
  }
 ],
 "metadata": {
  "kernelspec": {
   "display_name": "Python 3",
   "language": "python",
   "name": "python3"
  },
  "language_info": {
   "codemirror_mode": {
    "name": "ipython",
    "version": 3
   },
   "file_extension": ".py",
   "mimetype": "text/x-python",
   "name": "python",
   "nbconvert_exporter": "python",
   "pygments_lexer": "ipython3",
   "version": "3.6.4"
  }
 },
 "nbformat": 4,
 "nbformat_minor": 2
}
