{
 "cells": [
  {
   "cell_type": "code",
   "execution_count": 1,
   "metadata": {},
   "outputs": [
    {
     "name": "stderr",
     "output_type": "stream",
     "text": [
      "C:\\Users\\DHAIRYA\\Anaconda3\\lib\\site-packages\\h5py\\__init__.py:36: FutureWarning: Conversion of the second argument of issubdtype from `float` to `np.floating` is deprecated. In future, it will be treated as `np.float64 == np.dtype(float).type`.\n",
      "  from ._conv import register_converters as _register_converters\n",
      "Using TensorFlow backend.\n"
     ]
    }
   ],
   "source": [
    "import pandas as pd\n",
    "import numpy as np\n",
    "import math\n",
    "from sklearn.preprocessing import MinMaxScaler\n",
    "from keras.models import Sequential\n",
    "from keras.layers import LSTM\n",
    "from keras.layers import Dense\n",
    "import sys\n",
    "from keras.callbacks import EarlyStopping\n",
    "from keras.models import load_model\n",
    "import matplotlib.pyplot as plt"
   ]
  },
  {
   "cell_type": "code",
   "execution_count": 37,
   "metadata": {},
   "outputs": [],
   "source": [
    "xdata_t = np.load('npy\\s4adl5_x.npy')\n",
    "ydata_t = np.load('npy\\s4adl5_y.npy')\n",
    "xdata_cv = np.load('npy\\s4adl2_x.npy')\n",
    "ydata_cv = np.load('npy\\s4adl2_y.npy')"
   ]
  },
  {
   "cell_type": "code",
   "execution_count": 38,
   "metadata": {},
   "outputs": [],
   "source": [
    "model = load_model('traincv_loco.h5')"
   ]
  },
  {
   "cell_type": "code",
   "execution_count": 39,
   "metadata": {},
   "outputs": [],
   "source": [
    "early_stop = EarlyStopping(monitor = 'val_loss', patience = 2)"
   ]
  },
  {
   "cell_type": "code",
   "execution_count": 40,
   "metadata": {},
   "outputs": [],
   "source": [
    "model.compile(loss = 'mean_absolute_error', optimizer = 'adam', metrics = ['accuracy'])"
   ]
  },
  {
   "cell_type": "code",
   "execution_count": 41,
   "metadata": {},
   "outputs": [
    {
     "name": "stdout",
     "output_type": "stream",
     "text": [
      "_________________________________________________________________\n",
      "Layer (type)                 Output Shape              Param #   \n",
      "=================================================================\n",
      "lstm_5 (LSTM)                (None, 32, 35)            23660     \n",
      "_________________________________________________________________\n",
      "lstm_6 (LSTM)                (None, 5)                 820       \n",
      "=================================================================\n",
      "Total params: 24,480\n",
      "Trainable params: 24,480\n",
      "Non-trainable params: 0\n",
      "_________________________________________________________________\n"
     ]
    }
   ],
   "source": [
    "model.summary()"
   ]
  },
  {
   "cell_type": "code",
   "execution_count": 42,
   "metadata": {},
   "outputs": [
    {
     "name": "stdout",
     "output_type": "stream",
     "text": [
      "Train on 30495 samples, validate on 27705 samples\n",
      "Epoch 1/20\n",
      "30495/30495 [==============================] - 68s 2ms/step - loss: 0.0294 - acc: 0.9283 - val_loss: 0.0924 - val_acc: 0.7683\n",
      "Epoch 2/20\n",
      "30495/30495 [==============================] - 61s 2ms/step - loss: 0.0259 - acc: 0.9362 - val_loss: 0.0850 - val_acc: 0.7847\n",
      "Epoch 3/20\n",
      "30495/30495 [==============================] - 61s 2ms/step - loss: 0.0225 - acc: 0.9446 - val_loss: 0.0873 - val_acc: 0.7830\n",
      "Epoch 4/20\n",
      "30495/30495 [==============================] - 60s 2ms/step - loss: 0.0207 - acc: 0.9490 - val_loss: 0.0559 - val_acc: 0.8614\n",
      "Epoch 5/20\n",
      "30495/30495 [==============================] - 64s 2ms/step - loss: 0.0185 - acc: 0.9543 - val_loss: 0.0538 - val_acc: 0.8642\n",
      "Epoch 6/20\n",
      "30495/30495 [==============================] - 65s 2ms/step - loss: 0.0172 - acc: 0.9577 - val_loss: 0.0709 - val_acc: 0.8198\n",
      "Epoch 7/20\n",
      "30495/30495 [==============================] - 67s 2ms/step - loss: 0.0172 - acc: 0.9574 - val_loss: 0.0756 - val_acc: 0.8114\n"
     ]
    }
   ],
   "source": [
    "his = model.fit(xdata_t, ydata_t, epochs = 20, validation_data = (xdata_cv, ydata_cv), callbacks = [early_stop])"
   ]
  },
  {
   "cell_type": "code",
   "execution_count": 43,
   "metadata": {},
   "outputs": [],
   "source": [
    "model.save('traincv_loco.h5')"
   ]
  },
  {
   "cell_type": "code",
   "execution_count": null,
   "metadata": {},
   "outputs": [],
   "source": []
  }
 ],
 "metadata": {
  "kernelspec": {
   "display_name": "Python 3",
   "language": "python",
   "name": "python3"
  },
  "language_info": {
   "codemirror_mode": {
    "name": "ipython",
    "version": 3
   },
   "file_extension": ".py",
   "mimetype": "text/x-python",
   "name": "python",
   "nbconvert_exporter": "python",
   "pygments_lexer": "ipython3",
   "version": "3.6.4"
  }
 },
 "nbformat": 4,
 "nbformat_minor": 2
}
